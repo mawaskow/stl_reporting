{
 "cells": [
  {
   "cell_type": "markdown",
   "id": "4af7e95c",
   "metadata": {},
   "source": [
    "# Illegal STL Detection and Reporting\n",
    "\n",
    "This notebook shows the process used to find illegal STLs in Galway City. Additional information is available for Galway County, Conamara, and the rest of Ireland.\n",
    "\n",
    "Note: Airbnb blocks web scrapers from searching their site, so we rely on [Inside Airbnb](https://insideairbnb.com/get-the-data)'s data for Ireland. We can run Scrapy on the specific listing URLs but most of the information we would want is already provided in Inside Airbnb's listings.csv (which just needs to be unzipped from listings.csv.gz)\n",
    "\n",
    "Questions\n",
    "- We were focusing on listings for entire homes, but what about private/shared rooms in guest houses/ etc? Where the owner is letting all the individual rooms in an entire property?\n",
    "- I haven't been able to find the 81 approved STL planning permissions, where did we get that information and can we get the list of permission reference IDs?\n",
    "- Any proposals to get around \"Exact location provided after booking\"? (I'm wondering if we look at planning permissions for guest houses, etc that we can figure out if planning permission was obtained for development but not STL?)"
   ]
  },
  {
   "cell_type": "code",
   "execution_count": 56,
   "id": "d1afa052",
   "metadata": {},
   "outputs": [],
   "source": [
    "import os\n",
    "import pandas as pd\n",
    "cwd = os.getcwd()\n",
    "input_dir = cwd+\"/inputs\"\n",
    "output_dir = cwd+\"/outputs\""
   ]
  },
  {
   "cell_type": "markdown",
   "id": "60644c57",
   "metadata": {},
   "source": [
    "## 1. Getting Data"
   ]
  },
  {
   "cell_type": "markdown",
   "id": "12a53ca2",
   "metadata": {},
   "source": [
    "### Airbnb\n",
    "We can download listings.csv.gz from [Inside Airbnb](https://insideairbnb.com/get-the-data), which includes over 80 fields of information."
   ]
  },
  {
   "cell_type": "code",
   "execution_count": 57,
   "id": "9e598a1a",
   "metadata": {},
   "outputs": [
    {
     "data": {
      "text/plain": [
       "Index(['id', 'listing_url', 'scrape_id', 'last_searched', 'last_scraped',\n",
       "       'source', 'name', 'description', 'neighborhood_overview', 'picture_url',\n",
       "       'host_id', 'host_url', 'host_name', 'host_since', 'host_location',\n",
       "       'host_about', 'host_response_time', 'host_response_rate',\n",
       "       'host_acceptance_rate', 'host_is_superhost', 'host_thumbnail_url',\n",
       "       'host_picture_url', 'host_neighbourhood', 'host_listings_count',\n",
       "       'host_total_listings_count', 'host_verifications',\n",
       "       'host_has_profile_pic', 'host_identity_verified', 'neighbourhood',\n",
       "       'latitude', 'longitude', 'property_type', 'room_type', 'accommodates',\n",
       "       'bathrooms', 'bathrooms_text', 'bedrooms', 'beds', 'amenities', 'price',\n",
       "       'minimum_nights', 'maximum_nights', 'minimum_minimum_nights',\n",
       "       'maximum_minimum_nights', 'minimum_maximum_nights',\n",
       "       'maximum_maximum_nights', 'minimum_nights_avg_ntm',\n",
       "       'maximum_nights_avg_ntm', 'calendar_updated', 'has_availability',\n",
       "       'availability_30', 'availability_60', 'availability_90',\n",
       "       'availability_365', 'calendar_last_scraped', 'number_of_reviews',\n",
       "       'number_of_reviews_ltm', 'number_of_reviews_l30d', 'availability_eoy',\n",
       "       'number_of_reviews_ly', 'estimated_occupancy_l365d',\n",
       "       'estimated_revenue_l365d', 'first_review', 'last_review',\n",
       "       'review_scores_rating', 'review_scores_accuracy',\n",
       "       'review_scores_cleanliness', 'review_scores_checkin',\n",
       "       'review_scores_communication', 'review_scores_location',\n",
       "       'review_scores_value', 'requires_license', 'license',\n",
       "       'instant_bookable', 'calculated_host_listings_count',\n",
       "       'calculated_host_listings_count_entire_homes',\n",
       "       'calculated_host_listings_count_private_rooms',\n",
       "       'calculated_host_listings_count_shared_rooms', 'region_id',\n",
       "       'region_name', 'region_parent_id', 'region_parent_name',\n",
       "       'region_parent_parent_id', 'region_parent_parent_name',\n",
       "       'reviews_per_month'],\n",
       "      dtype='object')"
      ]
     },
     "execution_count": 57,
     "metadata": {},
     "output_type": "execute_result"
    }
   ],
   "source": [
    "# we load the data into a pandas data frame, and print the list of columns\n",
    "# we won't be interested in all of the fields right now, but there is a lot to explore\n",
    "df = pd.read_csv(input_dir+\"/listings.csv\")\n",
    "df.columns"
   ]
  },
  {
   "cell_type": "code",
   "execution_count": 58,
   "id": "aa4249f8",
   "metadata": {},
   "outputs": [],
   "source": [
    "# now we will filter our data frame (which covers all of Ireland) to focus on Galway\n",
    "# we can do this by filtering by the field 'region_parent_name' to get all of Galway County's listings\n",
    "galway_county_df = df[df['region_parent_name'].str.contains(\"Galway\")] #3123 listings\n",
    "# by the field 'region_name' for Conamara\n",
    "conamara_df = df[df['region_name'].str.contains(\"Conamara\")] #1228 listings\n",
    "# or by the field 'region_name' for Galway City, which we'll focus on\n",
    "galway_city_df = df[df['region_name'].str.contains(\"Galway\")] #1119 listings"
   ]
  },
  {
   "cell_type": "code",
   "execution_count": 4,
   "id": "63a683cc",
   "metadata": {},
   "outputs": [
    {
     "data": {
      "text/plain": [
       "{'Boat',\n",
       " 'Castle',\n",
       " 'Entire bungalow',\n",
       " 'Entire cabin',\n",
       " 'Entire condo',\n",
       " 'Entire cottage',\n",
       " 'Entire guest suite',\n",
       " 'Entire guesthouse',\n",
       " 'Entire home',\n",
       " 'Entire loft',\n",
       " 'Entire place',\n",
       " 'Entire rental unit',\n",
       " 'Entire serviced apartment',\n",
       " 'Entire townhouse',\n",
       " 'Entire villa',\n",
       " 'Houseboat',\n",
       " 'Private room',\n",
       " 'Private room in bed and breakfast',\n",
       " 'Private room in bungalow',\n",
       " 'Private room in condo',\n",
       " 'Private room in guest suite',\n",
       " 'Private room in guesthouse',\n",
       " 'Private room in home',\n",
       " 'Private room in hostel',\n",
       " 'Private room in rental unit',\n",
       " 'Private room in serviced apartment',\n",
       " 'Private room in tiny home',\n",
       " 'Private room in townhouse',\n",
       " 'Room in aparthotel',\n",
       " 'Room in bed and breakfast',\n",
       " 'Room in boutique hotel',\n",
       " 'Room in hostel',\n",
       " 'Room in hotel',\n",
       " 'Shared room in hostel',\n",
       " 'Shared room in hotel',\n",
       " 'Tiny home'}"
      ]
     },
     "execution_count": 4,
     "metadata": {},
     "output_type": "execute_result"
    }
   ],
   "source": [
    "# now we'll look at all of the property types contained in our dataset\n",
    "# and decide which ones we want to filter for STLs\n",
    "set(list(galway_city_df[\"property_type\"]))"
   ]
  },
  {
   "cell_type": "code",
   "execution_count": 5,
   "id": "02bb286d",
   "metadata": {},
   "outputs": [],
   "source": [
    "# I decided to go with anything that includes \"Entire\", as well as \"Tiny home,\"\n",
    "# \"Private room in guest suite\", or \"Private room in guesthouse\"\n",
    "# But we can absolutely add or change these selections if necessary\n",
    "gal_entire = galway_city_df[galway_city_df[\"property_type\"].str.contains(\"Entire\")]\n",
    "gal_othertypes = galway_city_df[galway_city_df[\"property_type\"].isin([\"Tiny home\", \"Private room in guest suite\", \"Private room in guesthouse\"])]\n",
    "gal_df = pd.concat([gal_entire, gal_othertypes]) # 742 listings"
   ]
  },
  {
   "cell_type": "markdown",
   "id": "833fc6fa",
   "metadata": {},
   "source": [
    "Now maybe we want to get rid of some of the columns we aren't interested in this time around, just to make things look a bit cleaner for us."
   ]
  },
  {
   "cell_type": "code",
   "execution_count": 6,
   "id": "91a2fcf1",
   "metadata": {},
   "outputs": [],
   "source": [
    "desired_columns = ['id', 'listing_url', 'scrape_id', 'last_searched', 'last_scraped',\n",
    "       'source', 'name', 'description', 'host_id', 'host_url', 'host_name', 'host_since', 'host_location',\n",
    "       'host_neighbourhood', 'host_listings_count','host_total_listings_count', 'neighbourhood',\n",
    "       'latitude', 'longitude', 'property_type', 'room_type', 'accommodates',\n",
    "       'bathrooms', 'bedrooms', 'beds', 'price', 'estimated_occupancy_l365d',\n",
    "       'estimated_revenue_l365d','calculated_host_listings_count',\n",
    "       'calculated_host_listings_count_entire_homes',\n",
    "       'calculated_host_listings_count_private_rooms',\n",
    "       'calculated_host_listings_count_shared_rooms', 'region_id',\n",
    "       'region_name', 'region_parent_id', 'region_parent_name',\n",
    "       'region_parent_parent_id', 'region_parent_parent_name'\n",
    "       ]\n",
    "df = gal_df.filter(desired_columns, axis=1)"
   ]
  },
  {
   "cell_type": "markdown",
   "id": "d9727901",
   "metadata": {},
   "source": [
    "Now we have our final Airbnb dataset, filtered to focus on Galway City and potential STL property types. We can save it as a csv or excel file now, but in the next section we will work on making a map of this data."
   ]
  },
  {
   "cell_type": "code",
   "execution_count": null,
   "id": "3dcf9982",
   "metadata": {},
   "outputs": [],
   "source": [
    "#df.to_csv(output_dir+\"/airbnb_filtered_260925.csv\")\n",
    "df.to_excel(output_dir+'/airbnb_filtered_260925.xlsx')"
   ]
  },
  {
   "cell_type": "markdown",
   "id": "38f88533",
   "metadata": {},
   "source": [
    "Ok now let's do the same for Conamara."
   ]
  },
  {
   "cell_type": "code",
   "execution_count": 60,
   "id": "9cf13dfd",
   "metadata": {},
   "outputs": [
    {
     "data": {
      "text/plain": [
       "{'Barn',\n",
       " 'Camper/RV',\n",
       " 'Campsite',\n",
       " 'Entire bungalow',\n",
       " 'Entire cabin',\n",
       " 'Entire chalet',\n",
       " 'Entire condo',\n",
       " 'Entire cottage',\n",
       " 'Entire guest suite',\n",
       " 'Entire guesthouse',\n",
       " 'Entire home',\n",
       " 'Entire loft',\n",
       " 'Entire place',\n",
       " 'Entire rental unit',\n",
       " 'Entire townhouse',\n",
       " 'Entire vacation home',\n",
       " 'Entire villa',\n",
       " 'Farm stay',\n",
       " 'Hut',\n",
       " 'Private room',\n",
       " 'Private room in bed and breakfast',\n",
       " 'Private room in bungalow',\n",
       " 'Private room in casa particular',\n",
       " 'Private room in castle',\n",
       " 'Private room in condo',\n",
       " 'Private room in cottage',\n",
       " 'Private room in farm stay',\n",
       " 'Private room in guest suite',\n",
       " 'Private room in guesthouse',\n",
       " 'Private room in home',\n",
       " 'Private room in hostel',\n",
       " 'Private room in hut',\n",
       " 'Private room in loft',\n",
       " 'Private room in nature lodge',\n",
       " 'Private room in rental unit',\n",
       " 'Private room in tent',\n",
       " 'Private room in townhouse',\n",
       " 'Room in aparthotel',\n",
       " 'Room in bed and breakfast',\n",
       " 'Room in boutique hotel',\n",
       " 'Room in hotel',\n",
       " 'Shared room in guesthouse',\n",
       " 'Shared room in hostel',\n",
       " 'Shared room in tent',\n",
       " 'Shared room in townhouse',\n",
       " 'Shepherd’s hut',\n",
       " 'Shipping container',\n",
       " 'Tent',\n",
       " 'Tiny home',\n",
       " 'Treehouse',\n",
       " 'Yurt'}"
      ]
     },
     "execution_count": 60,
     "metadata": {},
     "output_type": "execute_result"
    }
   ],
   "source": [
    "set(list(conamara_df[\"property_type\"]))"
   ]
  },
  {
   "cell_type": "code",
   "execution_count": 62,
   "id": "8548c687",
   "metadata": {},
   "outputs": [],
   "source": [
    "# I decided to go with anything that includes \"Entire\", as well as \"Tiny home,\"\n",
    "# \"Shipping container\", \"Shepherd’s hut\", \"Hut\"\n",
    "# \"Private room in guest suite\", or \"Private room in guesthouse\"\n",
    "con_entire = conamara_df[conamara_df[\"property_type\"].str.contains(\"Entire\")]\n",
    "con_othertypes = conamara_df[conamara_df[\"property_type\"].isin([\"Tiny home\", \"Shipping container\", \"Shepherd’s hut\", \"Hut\", \"Private room in guest suite\", \"Private room in guesthouse\"])]\n",
    "con_df = pd.concat([con_entire, con_othertypes]) # 930 listings\n",
    "con_df_flt = con_df.filter(desired_columns, axis=1)\n",
    "#con_df_flt.to_csv(output_dir+\"/airbnb_connemara_270925.csv\")\n",
    "con_df_flt.to_excel(output_dir+'/airbnb_connemara_270925.xlsx')"
   ]
  },
  {
   "cell_type": "markdown",
   "id": "f47d3ca6",
   "metadata": {},
   "source": [
    "### Booking.com\n",
    "On the one hand, it's nice that we can use Scrapy to crawl booking.com for listings, but on the other hand, it means we need to do a bit more work to get the information."
   ]
  },
  {
   "cell_type": "code",
   "execution_count": null,
   "id": "43e567a2",
   "metadata": {},
   "outputs": [],
   "source": [
    "# will include information about the strucutre of the scrapy spider and how to run it"
   ]
  },
  {
   "cell_type": "markdown",
   "id": "69f01538",
   "metadata": {},
   "source": [
    "## 2. Geospatial Data\n",
    "So, in order to automatically evaluate if a listing has corresponding planning permission, we're going to do some geospatial calculations. First, we're going to download the PACE_Planning_Sites_With_Info shapefile from the [City Council Planning Map on ArcGIS](https://experience.arcgis.com/experience/4878ca4a845945db8b3c1af302acbebf). Then, we're going to convert our tables of listings into what's called a point shapefile. Then, we're going to see if the two overlap. \n",
    "\n",
    "It may also be helpful to view the files on free GIS software like QGIS."
   ]
  },
  {
   "cell_type": "markdown",
   "id": "2c51a5f2",
   "metadata": {},
   "source": [
    "### Expedia?"
   ]
  },
  {
   "cell_type": "markdown",
   "id": "403ab9ff",
   "metadata": {},
   "source": [
    "### Listing Table to Shapefile"
   ]
  },
  {
   "cell_type": "code",
   "execution_count": 14,
   "id": "47d524fc",
   "metadata": {},
   "outputs": [],
   "source": [
    "import geopandas as gp\n",
    "gdf = gp.GeoDataFrame(\n",
    "    df, geometry=gp.points_from_xy(df.longitude, df.latitude, crs=\"EPSG:4326\"))"
   ]
  },
  {
   "cell_type": "code",
   "execution_count": 63,
   "id": "d0dee3dc",
   "metadata": {},
   "outputs": [],
   "source": [
    "cnm_gdf = gp.GeoDataFrame(\n",
    "    con_df_flt, geometry=gp.points_from_xy(con_df_flt.longitude, con_df_flt.latitude, crs=\"EPSG:4326\")\n",
    ")"
   ]
  },
  {
   "cell_type": "markdown",
   "id": "d9180d65",
   "metadata": {},
   "source": [
    "Maybe we update the column names ourselves too?"
   ]
  },
  {
   "cell_type": "code",
   "execution_count": 15,
   "id": "f43da8e1",
   "metadata": {},
   "outputs": [],
   "source": [
    "mapper = {\n",
    "    'listing_url':'list_url', \n",
    "    'last_searched':\"srch_date\", \n",
    "    'last_scraped':\"scrpe_date\",\n",
    "    'description':\"descrpt\", \n",
    "    'host_location':\"host_loc\",\n",
    "    'host_neighbourhood':\"host_nbhd\", \n",
    "    'host_listings_count':\"hst_lcount\",\n",
    "    'host_total_listings_count':\"hst_t_lcnt\", \n",
    "    'neighbourhood':\"nbhd\",\n",
    "    'property_type':\"prop_type\", \n",
    "    'accommodates':\"max_guests\",\n",
    "    'estimated_occupancy_l365d':\"est_occ_yr\",\n",
    "    'estimated_revenue_l365d': \"est_rev_yr\",\n",
    "    'calculated_host_listings_count':\"htlc\",\n",
    "    'calculated_host_listings_count_entire_homes':\"htlc_eh\",\n",
    "    'calculated_host_listings_count_private_rooms':\"htlc_pr\",\n",
    "    'calculated_host_listings_count_shared_rooms':\"htlc_sr\",\n",
    "    'region_name':\"reg_name\", \n",
    "    'region_parent_id':\"reg_pid\", \n",
    "    'region_parent_name':\"reg_pname\",\n",
    "    'region_parent_parent_id':\"reg_ppid\", \n",
    "    'region_parent_parent_name':\"reg_ppname\"\n",
    "}\n",
    "gdf.rename(mapper, axis=1, inplace=True)"
   ]
  },
  {
   "cell_type": "code",
   "execution_count": 12,
   "id": "12c70da1",
   "metadata": {},
   "outputs": [
    {
     "name": "stderr",
     "output_type": "stream",
     "text": [
      "c:\\Python310\\lib\\site-packages\\pyogrio\\raw.py:723: RuntimeWarning: Value 'The perfect base for a stay in Galway. <br />Ideal for exploring the city, Connemara, The Burren & The Wild Atlantic Way. <br /><br />A stones throw away from the Ardilaun, Galway Bay & Salthill Hotels - perfect accommodation for weddings & events. <br /><br />A short stroll to the Salthill Prom & Blackrock Diving Tower. <br />25 minute walk to the centre of town.<br /><br />The private entrance ensuite room is connected to our home. It is not 100% soundproof. Access to the bedroom is through the kitchenette & ensuite bathroom.' of field descrpt has been truncated to 254 characters.  This warning will not be emitted any more for that layer.\n",
      "  ogr_write(\n"
     ]
    }
   ],
   "source": [
    "gdf.to_file(output_dir+\"/shapefiles/airbnbs.shp\")"
   ]
  },
  {
   "cell_type": "code",
   "execution_count": 64,
   "id": "39159385",
   "metadata": {},
   "outputs": [
    {
     "name": "stderr",
     "output_type": "stream",
     "text": [
      "c:\\Python310\\lib\\site-packages\\pyogrio\\raw.py:723: RuntimeWarning: Value 'The perfect base to tour Connemara, Galway City, the Aran Islands, fish Lough Corrib, walk, cycle or relax.  At the gateway to Connemara, a 30 minute drive to Galway City & a 2 minute walk to Lough Corrib famous for trout & salmon fishing this quaint & cosy 1 bed apartment is ideal for a couple or solo traveler. 6km to Oughterard village which has an abundance of award winning restaurants, pubs & live music. Nearby attractions are Bridget's Garden, Corrib Cruise, Wildlands Adventure & lot more.' of field descrpt has been truncated to 254 characters.  This warning will not be emitted any more for that layer.\n",
      "  ogr_write(\n"
     ]
    }
   ],
   "source": [
    "cnm_gdf.rename(mapper, axis=1, inplace=True)\n",
    "cnm_gdf.to_file(output_dir+\"/shapefiles/cnmra_airbnbs.shp\")"
   ]
  },
  {
   "cell_type": "markdown",
   "id": "6123b02a",
   "metadata": {},
   "source": [
    "### Galway City Council Planning Permission Map\n",
    "\n",
    "We gather our data from the [ArcGIS Experience Map Site](https://experience.arcgis.com/experience/4878ca4a845945db8b3c1af302acbebf), downloading the Shapefile of Planning Applications (Last 10 Years)"
   ]
  },
  {
   "cell_type": "code",
   "execution_count": 16,
   "id": "5334ba6a",
   "metadata": {},
   "outputs": [
    {
     "name": "stderr",
     "output_type": "stream",
     "text": [
      "c:\\Python310\\lib\\site-packages\\pyogrio\\raw.py:198: RuntimeWarning: C:\\Users\\Ales\\Documents\\galway planning permission map\\PACE_Planning_Sites_With_Info_-8595002616335958008\\PACE_Planning_Sites_With_Info.shp contains polygon(s) with rings with invalid winding order. Autocorrecting them, but that shapefile should be corrected using ogr2ogr for example.\n",
      "  return ogr_read(\n"
     ]
    }
   ],
   "source": [
    "gcc_planmap_orig_addr = \"C:\\\\Users\\\\Ales\\\\Documents\\\\galway planning permission map\\\\PACE_Planning_Sites_With_Info_-8595002616335958008\"\n",
    "gp_og = gp.read_file(gcc_planmap_orig_addr)"
   ]
  },
  {
   "cell_type": "markdown",
   "id": "c9a89b08",
   "metadata": {},
   "source": [
    "contains polygon(s) with rings with invalid winding order\n",
    "shapefile should be corrected using ogr2ogr"
   ]
  },
  {
   "cell_type": "code",
   "execution_count": null,
   "id": "35d88ce5",
   "metadata": {},
   "outputs": [
    {
     "data": {
      "text/html": [
       "<div>\n",
       "<style scoped>\n",
       "    .dataframe tbody tr th:only-of-type {\n",
       "        vertical-align: middle;\n",
       "    }\n",
       "\n",
       "    .dataframe tbody tr th {\n",
       "        vertical-align: top;\n",
       "    }\n",
       "\n",
       "    .dataframe thead th {\n",
       "        text-align: right;\n",
       "    }\n",
       "</style>\n",
       "<table border=\"1\" class=\"dataframe\">\n",
       "  <thead>\n",
       "    <tr style=\"text-align: right;\">\n",
       "      <th></th>\n",
       "      <th>ReferenceN</th>\n",
       "      <th>Applicatio</th>\n",
       "      <th>Applicati</th>\n",
       "      <th>DateReceiv</th>\n",
       "      <th>DecisionDu</th>\n",
       "      <th>YearReceiv</th>\n",
       "      <th>EPlanInfo</th>\n",
       "      <th>IDCount</th>\n",
       "      <th>Developm00</th>\n",
       "      <th>Developmen</th>\n",
       "      <th>MergeKey</th>\n",
       "      <th>geometry</th>\n",
       "    </tr>\n",
       "  </thead>\n",
       "  <tbody>\n",
       "    <tr>\n",
       "      <th>0</th>\n",
       "      <td>00557</td>\n",
       "      <td>APPLICATION FINALISED</td>\n",
       "      <td>PERMISSION</td>\n",
       "      <td>25/07/2000</td>\n",
       "      <td>24/09/2000</td>\n",
       "      <td>2000</td>\n",
       "      <td>https://www.eplanning.ie/GalwayCity/AppFileRef...</td>\n",
       "      <td>1000</td>\n",
       "      <td>Permission to extend residence</td>\n",
       "      <td>1, Claremont Park, Circul ar Road, Galway.</td>\n",
       "      <td>00557</td>\n",
       "      <td>POLYGON ((-1011338.509 7034375.363, -1011338.5...</td>\n",
       "    </tr>\n",
       "    <tr>\n",
       "      <th>1</th>\n",
       "      <td>00558</td>\n",
       "      <td>APPLICATION FINALISED</td>\n",
       "      <td>RETENTION</td>\n",
       "      <td>25/07/2000</td>\n",
       "      <td>24/09/2000</td>\n",
       "      <td>2000</td>\n",
       "      <td>https://www.eplanning.ie/GalwayCity/AppFileRef...</td>\n",
       "      <td>1001</td>\n",
       "      <td>Permission for retention of 1 no. fascia sign ...</td>\n",
       "      <td>Aldi Stores, Westside Ret ail Park, Galway.</td>\n",
       "      <td>00558</td>\n",
       "      <td>POLYGON ((-1009895.973 7034369.625, -1009896.0...</td>\n",
       "    </tr>\n",
       "    <tr>\n",
       "      <th>2</th>\n",
       "      <td>00559</td>\n",
       "      <td>APPLICATION FINALISED</td>\n",
       "      <td>PERMISSION</td>\n",
       "      <td>25/07/2000</td>\n",
       "      <td>07/11/2000</td>\n",
       "      <td>2000</td>\n",
       "      <td>https://www.eplanning.ie/GalwayCity/AppFileRef...</td>\n",
       "      <td>1002</td>\n",
       "      <td>Permission to 1. Demolish existing dwellinghou...</td>\n",
       "      <td>Ballinfoile, Galway.</td>\n",
       "      <td>00559</td>\n",
       "      <td>POLYGON ((-1005946.79 7037466.046, -1005946.84...</td>\n",
       "    </tr>\n",
       "    <tr>\n",
       "      <th>3</th>\n",
       "      <td>0056</td>\n",
       "      <td>APPLICATION FINALISED</td>\n",
       "      <td>OUTLINE PERMISSION</td>\n",
       "      <td>10/02/2000</td>\n",
       "      <td>09/04/2000</td>\n",
       "      <td>2000</td>\n",
       "      <td>https://www.eplanning.ie/GalwayCity/AppFileRef...</td>\n",
       "      <td>1003</td>\n",
       "      <td>Outline permission for dwellinghouse, septic t...</td>\n",
       "      <td>Ballagh, Galway.</td>\n",
       "      <td>0056</td>\n",
       "      <td>POLYGON ((-1012858.398 7038386.894, -1012892.2...</td>\n",
       "    </tr>\n",
       "    <tr>\n",
       "      <th>4</th>\n",
       "      <td>00560</td>\n",
       "      <td>APPLICATION FINALISED</td>\n",
       "      <td>PERMISSION</td>\n",
       "      <td>26/07/2000</td>\n",
       "      <td>25/09/2000</td>\n",
       "      <td>2000</td>\n",
       "      <td>https://www.eplanning.ie/GalwayCity/AppFileRef...</td>\n",
       "      <td>1004</td>\n",
       "      <td>Permission for the erection of a single storey...</td>\n",
       "      <td>University College Hospit al Galway.</td>\n",
       "      <td>00560</td>\n",
       "      <td>POLYGON ((-1009145.19 7034206.53, -1009145.248...</td>\n",
       "    </tr>\n",
       "    <tr>\n",
       "      <th>...</th>\n",
       "      <td>...</td>\n",
       "      <td>...</td>\n",
       "      <td>...</td>\n",
       "      <td>...</td>\n",
       "      <td>...</td>\n",
       "      <td>...</td>\n",
       "      <td>...</td>\n",
       "      <td>...</td>\n",
       "      <td>...</td>\n",
       "      <td>...</td>\n",
       "      <td>...</td>\n",
       "      <td>...</td>\n",
       "    </tr>\n",
       "    <tr>\n",
       "      <th>18817</th>\n",
       "      <td>2560272</td>\n",
       "      <td>NEW APPLICATION</td>\n",
       "      <td>RETENTION</td>\n",
       "      <td>01/09/2025</td>\n",
       "      <td>26/10/2025</td>\n",
       "      <td>2025</td>\n",
       "      <td>https://www.eplanning.ie/GalwayCity/AppFileRef...</td>\n",
       "      <td>19817</td>\n",
       "      <td>Permission for development which consists of: ...</td>\n",
       "      <td>Galway Harbour Enterprise Park New Docks Galwa...</td>\n",
       "      <td>2560272</td>\n",
       "      <td>POLYGON ((-1006522.152 7033294.362, -1006522.5...</td>\n",
       "    </tr>\n",
       "    <tr>\n",
       "      <th>18818</th>\n",
       "      <td>2560275</td>\n",
       "      <td>NEW APPLICATION</td>\n",
       "      <td>PERMISSION</td>\n",
       "      <td>03/09/2025</td>\n",
       "      <td>28/10/2025</td>\n",
       "      <td>2025</td>\n",
       "      <td>https://www.eplanning.ie/GalwayCity/AppFileRef...</td>\n",
       "      <td>19818</td>\n",
       "      <td>Permission for development which consists of: ...</td>\n",
       "      <td>No 15 Gleann Na Coille Barna Road Galway H91FY5V</td>\n",
       "      <td>2560275</td>\n",
       "      <td>POLYGON ((-1016247.689 7031434.843, -1016209.8...</td>\n",
       "    </tr>\n",
       "    <tr>\n",
       "      <th>18819</th>\n",
       "      <td>2560257</td>\n",
       "      <td>NEW APPLICATION</td>\n",
       "      <td>RETENTION</td>\n",
       "      <td>21/08/2025</td>\n",
       "      <td>15/10/2025</td>\n",
       "      <td>2025</td>\n",
       "      <td>https://www.eplanning.ie/GalwayCity/AppFileRef...</td>\n",
       "      <td>19819</td>\n",
       "      <td>Permission for development which consists of: ...</td>\n",
       "      <td>35 Árd Na Mara Salthill Galway H91 HPK8</td>\n",
       "      <td>2560257</td>\n",
       "      <td>POLYGON ((-1010945.651 7031687.175, -1010945.4...</td>\n",
       "    </tr>\n",
       "    <tr>\n",
       "      <th>18820</th>\n",
       "      <td>2560091</td>\n",
       "      <td>APPLICATION FINALISED</td>\n",
       "      <td>PERMISSION</td>\n",
       "      <td>27/03/2025</td>\n",
       "      <td>21/05/2025</td>\n",
       "      <td>2025</td>\n",
       "      <td>https://www.eplanning.ie/GalwayCity/AppFileRef...</td>\n",
       "      <td>19820</td>\n",
       "      <td>Permission for development which consists of p...</td>\n",
       "      <td>Coláiste Éinde, Threadneedle Road, Salthill, G...</td>\n",
       "      <td>2560091</td>\n",
       "      <td>POLYGON ((-1012128.906 7031764.292, -1011976.7...</td>\n",
       "    </tr>\n",
       "    <tr>\n",
       "      <th>18821</th>\n",
       "      <td>2560002</td>\n",
       "      <td>APPLICATION FINALISED</td>\n",
       "      <td>PERMISSION</td>\n",
       "      <td>09/01/2025</td>\n",
       "      <td>05/03/2025</td>\n",
       "      <td>2025</td>\n",
       "      <td>https://www.eplanning.ie/GalwayCity/AppFileRef...</td>\n",
       "      <td>19821</td>\n",
       "      <td>Permission for development which consists of; ...</td>\n",
       "      <td>Ashwood Ballybane Road Galway H91HK7N</td>\n",
       "      <td>2560002</td>\n",
       "      <td>POLYGON ((-1002882.339 7034875.281, -1002816.3...</td>\n",
       "    </tr>\n",
       "  </tbody>\n",
       "</table>\n",
       "<p>18822 rows × 12 columns</p>\n",
       "</div>"
      ],
      "text/plain": [
       "      ReferenceN             Applicatio           Applicati  DateReceiv  \\\n",
       "0          00557  APPLICATION FINALISED          PERMISSION  25/07/2000   \n",
       "1          00558  APPLICATION FINALISED           RETENTION  25/07/2000   \n",
       "2          00559  APPLICATION FINALISED          PERMISSION  25/07/2000   \n",
       "3           0056  APPLICATION FINALISED  OUTLINE PERMISSION  10/02/2000   \n",
       "4          00560  APPLICATION FINALISED          PERMISSION  26/07/2000   \n",
       "...          ...                    ...                 ...         ...   \n",
       "18817    2560272        NEW APPLICATION           RETENTION  01/09/2025   \n",
       "18818    2560275        NEW APPLICATION          PERMISSION  03/09/2025   \n",
       "18819    2560257        NEW APPLICATION           RETENTION  21/08/2025   \n",
       "18820    2560091  APPLICATION FINALISED          PERMISSION  27/03/2025   \n",
       "18821    2560002  APPLICATION FINALISED          PERMISSION  09/01/2025   \n",
       "\n",
       "       DecisionDu YearReceiv  \\\n",
       "0      24/09/2000       2000   \n",
       "1      24/09/2000       2000   \n",
       "2      07/11/2000       2000   \n",
       "3      09/04/2000       2000   \n",
       "4      25/09/2000       2000   \n",
       "...           ...        ...   \n",
       "18817  26/10/2025       2025   \n",
       "18818  28/10/2025       2025   \n",
       "18819  15/10/2025       2025   \n",
       "18820  21/05/2025       2025   \n",
       "18821  05/03/2025       2025   \n",
       "\n",
       "                                               EPlanInfo IDCount  \\\n",
       "0      https://www.eplanning.ie/GalwayCity/AppFileRef...    1000   \n",
       "1      https://www.eplanning.ie/GalwayCity/AppFileRef...    1001   \n",
       "2      https://www.eplanning.ie/GalwayCity/AppFileRef...    1002   \n",
       "3      https://www.eplanning.ie/GalwayCity/AppFileRef...    1003   \n",
       "4      https://www.eplanning.ie/GalwayCity/AppFileRef...    1004   \n",
       "...                                                  ...     ...   \n",
       "18817  https://www.eplanning.ie/GalwayCity/AppFileRef...   19817   \n",
       "18818  https://www.eplanning.ie/GalwayCity/AppFileRef...   19818   \n",
       "18819  https://www.eplanning.ie/GalwayCity/AppFileRef...   19819   \n",
       "18820  https://www.eplanning.ie/GalwayCity/AppFileRef...   19820   \n",
       "18821  https://www.eplanning.ie/GalwayCity/AppFileRef...   19821   \n",
       "\n",
       "                                              Developm00  \\\n",
       "0                         Permission to extend residence   \n",
       "1      Permission for retention of 1 no. fascia sign ...   \n",
       "2      Permission to 1. Demolish existing dwellinghou...   \n",
       "3      Outline permission for dwellinghouse, septic t...   \n",
       "4      Permission for the erection of a single storey...   \n",
       "...                                                  ...   \n",
       "18817  Permission for development which consists of: ...   \n",
       "18818  Permission for development which consists of: ...   \n",
       "18819  Permission for development which consists of: ...   \n",
       "18820  Permission for development which consists of p...   \n",
       "18821  Permission for development which consists of; ...   \n",
       "\n",
       "                                              Developmen MergeKey  \\\n",
       "0             1, Claremont Park, Circul ar Road, Galway.    00557   \n",
       "1            Aldi Stores, Westside Ret ail Park, Galway.    00558   \n",
       "2                                   Ballinfoile, Galway.    00559   \n",
       "3                                       Ballagh, Galway.     0056   \n",
       "4                   University College Hospit al Galway.    00560   \n",
       "...                                                  ...      ...   \n",
       "18817  Galway Harbour Enterprise Park New Docks Galwa...  2560272   \n",
       "18818   No 15 Gleann Na Coille Barna Road Galway H91FY5V  2560275   \n",
       "18819            35 Árd Na Mara Salthill Galway H91 HPK8  2560257   \n",
       "18820  Coláiste Éinde, Threadneedle Road, Salthill, G...  2560091   \n",
       "18821              Ashwood Ballybane Road Galway H91HK7N  2560002   \n",
       "\n",
       "                                                geometry  \n",
       "0      POLYGON ((-1011338.509 7034375.363, -1011338.5...  \n",
       "1      POLYGON ((-1009895.973 7034369.625, -1009896.0...  \n",
       "2      POLYGON ((-1005946.79 7037466.046, -1005946.84...  \n",
       "3      POLYGON ((-1012858.398 7038386.894, -1012892.2...  \n",
       "4      POLYGON ((-1009145.19 7034206.53, -1009145.248...  \n",
       "...                                                  ...  \n",
       "18817  POLYGON ((-1006522.152 7033294.362, -1006522.5...  \n",
       "18818  POLYGON ((-1016247.689 7031434.843, -1016209.8...  \n",
       "18819  POLYGON ((-1010945.651 7031687.175, -1010945.4...  \n",
       "18820  POLYGON ((-1012128.906 7031764.292, -1011976.7...  \n",
       "18821  POLYGON ((-1002882.339 7034875.281, -1002816.3...  \n",
       "\n",
       "[18822 rows x 12 columns]"
      ]
     },
     "execution_count": 17,
     "metadata": {},
     "output_type": "execute_result"
    }
   ],
   "source": [
    "gp_og #18822 rows on "
   ]
  },
  {
   "cell_type": "code",
   "execution_count": null,
   "id": "bf2c0d1e",
   "metadata": {},
   "outputs": [
    {
     "data": {
      "text/plain": [
       "(17, 1461)"
      ]
     },
     "execution_count": 53,
     "metadata": {},
     "output_type": "execute_result"
    }
   ],
   "source": [
    "pp_stl = gp_og[gp_og[\"Developm00\"].str.contains(\"short term let\")]\n",
    "#pp_s_t = gal_entire = gp_og[gp_og[\"Developm00\"].str.contains(\"short-term\")] #0\n",
    "#pp_st2 = gp_og[gp_og[\"Developm00\"].str.contains(\"Short Term\")] #0\n",
    "#pp_st3 = gp_og[gp_og[\"Developm00\"].str.contains(\"Short-term\")] #0\n",
    "#pp_stl = gp_og[gp_og[\"Developm00\"].str.contains(\"STL\")] #0\n",
    "pp_cou = gp_og[gp_og[\"Developm00\"].str.contains(\"change of use\")] #1461 many irrelev\n",
    "len(pp_stl), len(pp_cou)"
   ]
  },
  {
   "cell_type": "markdown",
   "id": "abfd95d7",
   "metadata": {},
   "source": [
    "So, this is way fewer than the 81 mentioned [in this article](https://catuireland.org/airbnb/2025/04/30/how-to-report-illegal-short-term-lets/)-- was that number about Galway County? Where did we get that number? *Can we have the permission reference numbers*?\n",
    "\n",
    "When searching the [Galway City Planning site](https://www.eplanning.ie/GalwayCity/searchresults) for \"short term let\", there are only 22 applications, some refused or invalid."
   ]
  },
  {
   "cell_type": "code",
   "execution_count": null,
   "id": "61895152",
   "metadata": {},
   "outputs": [],
   "source": [
    "after_cou = []\n",
    "for description in pp_cou[\"Developm00\"]:\n",
    "    after_cou.append(description[description.rfind(\"to\"):])\n",
    "from collections import Counter\n",
    "options_c = Counter(after_cou)\n",
    "options_c"
   ]
  },
  {
   "cell_type": "code",
   "execution_count": null,
   "id": "3a7a211c",
   "metadata": {},
   "outputs": [],
   "source": [
    "### VALID we tolerate for now\n",
    "#'to short term let for a period not exceeding 90 days per calendar year'\n",
    "### RED FLAG if nearby listings are \"Exact location provided after booking\"\n",
    "#'bedsit'\n",
    "#'granny flat'\n",
    "#'apartment'\n",
    "#'guesthouse'\n",
    "#'guest house'\n",
    "#'self-contained apartment'\n",
    "### YES we're looking at \n",
    "#'residential apartment'\n",
    "#'student accommodation'\n",
    "#'living accommodation'\n",
    "#'guest bedroom'\n",
    "#'guest room'\n",
    "#'bedroom'"
   ]
  },
  {
   "cell_type": "code",
   "execution_count": 65,
   "id": "530b19ef",
   "metadata": {},
   "outputs": [],
   "source": [
    "gael_file = \"C:\\\\Users\\\\Ales\\\\Documents\\\\galway planning permission map\\\\gaeltacht\"\n",
    "gael_gdf = gp.read_file(gael_file)\n",
    "gael_df = pd.DataFrame(gael_gdf.drop(columns='geometry'))\n",
    "gael_df.to_excel(output_dir+'/airbnb_gaeltct_270925.xlsx')"
   ]
  },
  {
   "cell_type": "markdown",
   "id": "c53a62b6",
   "metadata": {},
   "source": [
    "Now first examine in qgis, both this layer and the county council layers"
   ]
  },
  {
   "cell_type": "markdown",
   "id": "0aff7f69",
   "metadata": {},
   "source": []
  }
 ],
 "metadata": {
  "kernelspec": {
   "display_name": "Python 3",
   "language": "python",
   "name": "python3"
  },
  "language_info": {
   "codemirror_mode": {
    "name": "ipython",
    "version": 3
   },
   "file_extension": ".py",
   "mimetype": "text/x-python",
   "name": "python",
   "nbconvert_exporter": "python",
   "pygments_lexer": "ipython3",
   "version": "3.10.4"
  }
 },
 "nbformat": 4,
 "nbformat_minor": 5
}
