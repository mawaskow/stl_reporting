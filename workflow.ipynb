{
 "cells": [
  {
   "cell_type": "markdown",
   "id": "4af7e95c",
   "metadata": {},
   "source": [
    "# Illegal STL Detection and Reporting\n",
    "\n",
    "This notebook shows the process used to find illegal STLs in Galway City. Additional information is available for Galway County, Conamara, and the rest of Ireland.\n",
    "\n",
    "Note: Airbnb blocks web scrapers from searching their site, so we rely on [Inside Airbnb](https://insideairbnb.com/get-the-data)'s data for Ireland. We can run Scrapy on the specific listing URLs but most of the information we would want is already provided in Inside Airbnb's listings.csv (which just needs to be unzipped from listings.csv.gz)\n",
    "\n",
    "Questions\n",
    "- We were focusing on listings for entire homes, but what about private/shared rooms in guest houses/ etc? Where the owner is letting all the individual rooms in an entire property?\n",
    "- I haven't been able to find the 81 approved STL planning permissions, where did we get that information and can we get the list of permission reference IDs?\n",
    "- Any proposals to get around \"Exact location provided after booking\"? (I'm wondering if we look at planning permissions for guest houses, etc that we can figure out if planning permission was obtained for development but not STL?)"
   ]
  },
  {
   "cell_type": "code",
   "execution_count": 18,
   "id": "d1afa052",
   "metadata": {},
   "outputs": [],
   "source": [
    "import os\n",
    "import pandas as pd\n",
    "import geopandas as gp\n",
    "cwd = os.getcwd()\n",
    "input_dir = cwd+\"/inputs\"\n",
    "output_dir = cwd+\"/outputs\""
   ]
  },
  {
   "cell_type": "markdown",
   "id": "60644c57",
   "metadata": {},
   "source": [
    "## 1. Getting Data"
   ]
  },
  {
   "cell_type": "markdown",
   "id": "12a53ca2",
   "metadata": {},
   "source": [
    "### Airbnb\n",
    "We can download and unzip listings.csv.gz from [Inside Airbnb](https://insideairbnb.com/get-the-data), which includes over 80 fields of information. We won't be interested in all of the fields right now, but there is a lot to explore."
   ]
  },
  {
   "cell_type": "code",
   "execution_count": 6,
   "id": "9e598a1a",
   "metadata": {},
   "outputs": [],
   "source": [
    "# we load the data into a pandas data frame\n",
    "list_df = pd.read_csv(input_dir+\"/listings.csv\")\n",
    "#list_df.columns #print the list of columns if you want to see your options"
   ]
  },
  {
   "cell_type": "markdown",
   "id": "87a945a5",
   "metadata": {},
   "source": [
    "Now we filter our data frame (which covers all of Ireland) to focus on Galway City listings"
   ]
  },
  {
   "cell_type": "code",
   "execution_count": 7,
   "id": "aa4249f8",
   "metadata": {},
   "outputs": [],
   "source": [
    "galway_city_df = list_df[list_df['region_name'].str.contains(\"Galway\")] #1119 listings"
   ]
  },
  {
   "cell_type": "code",
   "execution_count": 9,
   "id": "63a683cc",
   "metadata": {},
   "outputs": [
    {
     "data": {
      "text/plain": [
       "{'Entire home/apt', 'Hotel room', 'Private room', 'Shared room'}"
      ]
     },
     "execution_count": 9,
     "metadata": {},
     "output_type": "execute_result"
    }
   ],
   "source": [
    "set(list(galway_city_df[\"room_type\"]))"
   ]
  },
  {
   "cell_type": "markdown",
   "id": "e92a9647",
   "metadata": {},
   "source": [
    "And here we select only listings where the room type is 'Entire home/apt' (for now at least)"
   ]
  },
  {
   "cell_type": "code",
   "execution_count": 14,
   "id": "02bb286d",
   "metadata": {},
   "outputs": [],
   "source": [
    "gal_df = galway_city_df[galway_city_df[\"room_type\"].str.contains(\"Entire\")] #731 listings"
   ]
  },
  {
   "cell_type": "markdown",
   "id": "833fc6fa",
   "metadata": {},
   "source": [
    "Now maybe we want to get rid of some of the columns we aren't interested in this time around, just to make things look a bit cleaner for us."
   ]
  },
  {
   "cell_type": "code",
   "execution_count": 15,
   "id": "91a2fcf1",
   "metadata": {},
   "outputs": [],
   "source": [
    "desired_columns = ['id', 'listing_url', 'scrape_id', 'last_searched', 'last_scraped',\n",
    "       'source', 'name', 'description', 'host_id', 'host_url', 'host_name', 'host_since', 'host_location',\n",
    "       'host_neighbourhood', 'host_listings_count','host_total_listings_count', 'neighbourhood',\n",
    "       'latitude', 'longitude', 'property_type', 'room_type', 'accommodates',\n",
    "       'bathrooms', 'bedrooms', 'beds', 'price', 'estimated_occupancy_l365d',\n",
    "       'estimated_revenue_l365d','calculated_host_listings_count',\n",
    "       'calculated_host_listings_count_entire_homes',\n",
    "       'calculated_host_listings_count_private_rooms',\n",
    "       'calculated_host_listings_count_shared_rooms', 'region_id',\n",
    "       'region_name', 'region_parent_id', 'region_parent_name',\n",
    "       'region_parent_parent_id', 'region_parent_parent_name'\n",
    "       ]\n",
    "gal_df = gal_df.filter(desired_columns, axis=1)"
   ]
  },
  {
   "cell_type": "markdown",
   "id": "d9727901",
   "metadata": {},
   "source": [
    "Now we have our final Airbnb dataset, filtered to focus on entire home/apartment unit listings in Galway City. We can save it as a csv or excel file for easier viewing."
   ]
  },
  {
   "cell_type": "code",
   "execution_count": 17,
   "id": "3dcf9982",
   "metadata": {},
   "outputs": [],
   "source": [
    "#gal_df.to_csv(output_dir+\"/galway_city_270925.csv\")\n",
    "gal_df.to_excel(output_dir+'/galway_city_270925.xlsx')"
   ]
  },
  {
   "cell_type": "markdown",
   "id": "f47d3ca6",
   "metadata": {},
   "source": [
    "### Booking.com\n",
    "On the one hand, it's nice that we can use Scrapy to crawl booking.com for listings, but on the other hand, it means we need to do a bit more work to get the information."
   ]
  },
  {
   "cell_type": "code",
   "execution_count": null,
   "id": "43e567a2",
   "metadata": {},
   "outputs": [],
   "source": [
    "# will include information about the strucutre of the scrapy spider and how to run it"
   ]
  },
  {
   "cell_type": "markdown",
   "id": "69f01538",
   "metadata": {},
   "source": [
    "## 2. Geospatial Data\n",
    "Now we want to evaluate if a listing has corresponding planning permission. To do this, we're first going to download the PACE_Planning_Sites_With_Info shapefile from the [City Council Planning Map on ArcGIS](https://experience.arcgis.com/experience/4878ca4a845945db8b3c1af302acbebf) and put it in our \"inputs\" folder. Then, we're going to convert our tables of listings into a point shapefile. We may need to filter our Planning Permissions a bit, but then we can work on determining if a planning permission corresponds to a listing coordinate or not.\n",
    "\n",
    "It may also be helpful to view the files on free GIS software like [QGIS](https://qgis.org/download/)."
   ]
  },
  {
   "cell_type": "markdown",
   "id": "2c51a5f2",
   "metadata": {},
   "source": [
    "### Expedia?"
   ]
  },
  {
   "cell_type": "markdown",
   "id": "403ab9ff",
   "metadata": {},
   "source": [
    "### Listing Table to Shapefile"
   ]
  },
  {
   "cell_type": "code",
   "execution_count": 19,
   "id": "47d524fc",
   "metadata": {},
   "outputs": [],
   "source": [
    "gal_gdf = gp.GeoDataFrame(\n",
    "    gal_df, geometry=gp.points_from_xy(gal_df.longitude, gal_df.latitude, crs=\"EPSG:4326\"))"
   ]
  },
  {
   "cell_type": "markdown",
   "id": "d9180d65",
   "metadata": {},
   "source": [
    "Maybe we update the column names ourselves too?"
   ]
  },
  {
   "cell_type": "code",
   "execution_count": 20,
   "id": "f43da8e1",
   "metadata": {},
   "outputs": [],
   "source": [
    "mapper = {\n",
    "    'listing_url':'list_url', \n",
    "    'last_searched':\"srch_date\", \n",
    "    'last_scraped':\"scrpe_date\",\n",
    "    'description':\"descrpt\", \n",
    "    'host_location':\"host_loc\",\n",
    "    'host_neighbourhood':\"host_nbhd\", \n",
    "    'host_listings_count':\"hst_lcount\",\n",
    "    'host_total_listings_count':\"hst_t_lcnt\", \n",
    "    'neighbourhood':\"nbhd\",\n",
    "    'property_type':\"prop_type\", \n",
    "    'accommodates':\"max_guests\",\n",
    "    'estimated_occupancy_l365d':\"est_occ_yr\",\n",
    "    'estimated_revenue_l365d': \"est_rev_yr\",\n",
    "    'calculated_host_listings_count':\"htlc\",\n",
    "    'calculated_host_listings_count_entire_homes':\"htlc_eh\",\n",
    "    'calculated_host_listings_count_private_rooms':\"htlc_pr\",\n",
    "    'calculated_host_listings_count_shared_rooms':\"htlc_sr\",\n",
    "    'region_name':\"reg_name\", \n",
    "    'region_parent_id':\"reg_pid\", \n",
    "    'region_parent_name':\"reg_pname\",\n",
    "    'region_parent_parent_id':\"reg_ppid\", \n",
    "    'region_parent_parent_name':\"reg_ppname\"\n",
    "}\n",
    "gal_gdf.rename(mapper, axis=1, inplace=True)"
   ]
  },
  {
   "cell_type": "code",
   "execution_count": 22,
   "id": "12c70da1",
   "metadata": {},
   "outputs": [
    {
     "name": "stderr",
     "output_type": "stream",
     "text": [
      "C:\\Users\\allie\\AppData\\Roaming\\Python\\Python311\\site-packages\\pyogrio\\raw.py:723: RuntimeWarning: Value 'The perfect base for a stay in Galway. <br />Ideal for exploring the city, Connemara, The Burren & The Wild Atlantic Way. <br /><br />A stones throw away from the Ardilaun, Galway Bay & Salthill Hotels - perfect accommodation for weddings & events. <br /><br />A short stroll to the Salthill Prom & Blackrock Diving Tower. <br />25 minute walk to the centre of town.<br /><br />The private entrance ensuite room is connected to our home. It is not 100% soundproof. Access to the bedroom is through the kitchenette & ensuite bathroom.' of field descrpt has been truncated to 254 characters.  This warning will not be emitted any more for that layer.\n",
      "  ogr_write(\n"
     ]
    }
   ],
   "source": [
    "gal_gdf.to_file(output_dir+\"/shapefiles/galway_city_270925.shp\")"
   ]
  },
  {
   "cell_type": "markdown",
   "id": "6123b02a",
   "metadata": {},
   "source": [
    "### Galway City Council Planning Permission Map\n",
    "\n",
    "We gather our data from the [ArcGIS Experience Map Site](https://experience.arcgis.com/experience/4878ca4a845945db8b3c1af302acbebf), downloading the Shapefile of Planning Applications (Last 10 Years)"
   ]
  },
  {
   "cell_type": "code",
   "execution_count": 23,
   "id": "5334ba6a",
   "metadata": {},
   "outputs": [
    {
     "name": "stderr",
     "output_type": "stream",
     "text": [
      "C:\\Users\\allie\\AppData\\Roaming\\Python\\Python311\\site-packages\\pyogrio\\raw.py:198: RuntimeWarning: c:\\Users\\allie\\Documents\\GitHub\\stl_reporting/inputs/PACE_Planning_Sites_With_Info_-8595002616335958008\\PACE_Planning_Sites_With_Info.shp contains polygon(s) with rings with invalid winding order. Autocorrecting them, but that shapefile should be corrected using ogr2ogr for example.\n",
      "  return ogr_read(\n"
     ]
    }
   ],
   "source": [
    "gcc_planmap_orig_addr = input_dir+\"/PACE_Planning_Sites_With_Info_-8595002616335958008\"\n",
    "gp_og = gp.read_file(gcc_planmap_orig_addr)"
   ]
  },
  {
   "cell_type": "markdown",
   "id": "c9a89b08",
   "metadata": {},
   "source": [
    "contains polygon(s) with rings with invalid winding order\n",
    "shapefile should be corrected using ogr2ogr"
   ]
  },
  {
   "cell_type": "code",
   "execution_count": 25,
   "id": "35d88ce5",
   "metadata": {},
   "outputs": [
    {
     "data": {
      "text/plain": [
       "21841"
      ]
     },
     "execution_count": 25,
     "metadata": {},
     "output_type": "execute_result"
    }
   ],
   "source": [
    "len(gp_og)"
   ]
  },
  {
   "cell_type": "code",
   "execution_count": 26,
   "id": "bf2c0d1e",
   "metadata": {},
   "outputs": [
    {
     "data": {
      "text/plain": [
       "(20, 1670)"
      ]
     },
     "execution_count": 26,
     "metadata": {},
     "output_type": "execute_result"
    }
   ],
   "source": [
    "pp_stl = gp_og[gp_og[\"Developm00\"].str.contains(\"short term let\")]\n",
    "#pp_s_t = gal_entire = gp_og[gp_og[\"Developm00\"].str.contains(\"short-term\")] #0\n",
    "#pp_st2 = gp_og[gp_og[\"Developm00\"].str.contains(\"Short Term\")] #0\n",
    "#pp_st3 = gp_og[gp_og[\"Developm00\"].str.contains(\"Short-term\")] #0\n",
    "#pp_stl = gp_og[gp_og[\"Developm00\"].str.contains(\"STL\")] #0\n",
    "pp_cou = gp_og[gp_og[\"Developm00\"].str.contains(\"change of use\")] #1461 many irrelev\n",
    "len(pp_stl), len(pp_cou)"
   ]
  },
  {
   "cell_type": "markdown",
   "id": "abfd95d7",
   "metadata": {},
   "source": [
    "So, this is way fewer than the 81 mentioned [in this article](https://catuireland.org/airbnb/2025/04/30/how-to-report-illegal-short-term-lets/)-- was that number about Galway County? Where did we get that number? *Can we have the permission reference numbers*? I may need to update the way I search for these planning permissions?\n",
    "\n",
    "When searching the [Galway City Planning site](https://www.eplanning.ie/GalwayCity/searchresults) for \"short term let\", there are only 22 applications, some refused or invalid."
   ]
  },
  {
   "cell_type": "code",
   "execution_count": null,
   "id": "61895152",
   "metadata": {},
   "outputs": [],
   "source": [
    "after_cou = []\n",
    "for description in pp_cou[\"Developm00\"]:\n",
    "    after_cou.append(description[description.rfind(\"to\"):])\n",
    "from collections import Counter\n",
    "options_c = Counter(after_cou)\n",
    "options_c"
   ]
  },
  {
   "cell_type": "code",
   "execution_count": null,
   "id": "3a7a211c",
   "metadata": {},
   "outputs": [],
   "source": [
    "### VALID we tolerate for now\n",
    "#'to short term let for a period not exceeding 90 days per calendar year'\n",
    "### RED FLAG if nearby listings are \"Exact location provided after booking\"\n",
    "#'bedsit'\n",
    "#'granny flat'\n",
    "#'apartment'\n",
    "#'guesthouse'\n",
    "#'guest house'\n",
    "#'self-contained apartment'\n",
    "### YES we're looking at \n",
    "#'residential apartment'\n",
    "#'student accommodation'\n",
    "#'living accommodation'\n",
    "#'guest bedroom'\n",
    "#'guest room'\n",
    "#'bedroom'"
   ]
  },
  {
   "cell_type": "markdown",
   "id": "c53a62b6",
   "metadata": {},
   "source": [
    "Now first examine in qgis, both this layer and the county council layers"
   ]
  }
 ],
 "metadata": {
  "kernelspec": {
   "display_name": "base",
   "language": "python",
   "name": "python3"
  },
  "language_info": {
   "codemirror_mode": {
    "name": "ipython",
    "version": 3
   },
   "file_extension": ".py",
   "mimetype": "text/x-python",
   "name": "python",
   "nbconvert_exporter": "python",
   "pygments_lexer": "ipython3",
   "version": "3.11.5"
  }
 },
 "nbformat": 4,
 "nbformat_minor": 5
}
